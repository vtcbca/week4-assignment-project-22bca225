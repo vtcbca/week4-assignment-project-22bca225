{
 "cells": [
  {
   "cell_type": "code",
   "execution_count": 5,
   "id": "514f0e33",
   "metadata": {},
   "outputs": [],
   "source": [
    "import sqlite3"
   ]
  },
  {
   "cell_type": "code",
   "execution_count": 6,
   "id": "fb3d613c",
   "metadata": {},
   "outputs": [],
   "source": [
    "import datetime"
   ]
  },
  {
   "cell_type": "code",
   "execution_count": 7,
   "id": "5595d1c7",
   "metadata": {},
   "outputs": [],
   "source": [
    "con=sqlite3.connect(\"contactmanagementsystem.db\")"
   ]
  },
  {
   "cell_type": "code",
   "execution_count": 8,
   "id": "e32ac608",
   "metadata": {},
   "outputs": [],
   "source": [
    "cur = con.cursor()"
   ]
  },
  {
   "cell_type": "code",
   "execution_count": 10,
   "id": "8ae917a3",
   "metadata": {},
   "outputs": [
    {
     "data": {
      "text/plain": [
       "<sqlite3.Cursor at 0x16e6e53fcc0>"
      ]
     },
     "execution_count": 10,
     "metadata": {},
     "output_type": "execute_result"
    }
   ],
   "source": [
    "cur.execute(\"\"\"create table if not exists contact\n",
    "               ( cid int primary key,\n",
    "                 fname text,\n",
    "                 lname text,\n",
    "                 contact number,\n",
    "                 email text,\n",
    "                 city text\n",
    "                 check ( email like '%_@_%._%')\n",
    "                );\"\"\")"
   ]
  },
  {
   "cell_type": "code",
   "execution_count": 13,
   "id": "98b3518a",
   "metadata": {},
   "outputs": [
    {
     "data": {
      "text/plain": [
       "<sqlite3.Cursor at 0x16e6e53fcc0>"
      ]
     },
     "execution_count": 13,
     "metadata": {},
     "output_type": "execute_result"
    }
   ],
   "source": [
    "cur.execute(\"\"\"create table if not exists details_log\n",
    "                (\n",
    "                    fname text,\n",
    "                    lname text,\n",
    "                    newcontact number,\n",
    "                    oldcontact number,\n",
    "                    datetime text,\n",
    "                    operation text     \n",
    "                )\"\"\")"
   ]
  },
  {
   "cell_type": "code",
   "execution_count": 14,
   "id": "fcd47287",
   "metadata": {},
   "outputs": [
    {
     "data": {
      "text/plain": [
       "<sqlite3.Cursor at 0x16e6e53fcc0>"
      ]
     },
     "execution_count": 14,
     "metadata": {},
     "output_type": "execute_result"
    }
   ],
   "source": [
    "cur.execute(\"\"\"create trigger if not exists insertdata\n",
    "               after insert on contact\n",
    "               begin\n",
    "                   insert into details_log\n",
    "                   values(new.fname,new.lname,new.contact,'NULL',datetime('now'),'insert');\n",
    "               end;\n",
    "                   \"\"\")"
   ]
  },
  {
   "cell_type": "code",
   "execution_count": 15,
   "id": "13b82569",
   "metadata": {},
   "outputs": [
    {
     "data": {
      "text/plain": [
       "<sqlite3.Cursor at 0x16e6e53fcc0>"
      ]
     },
     "execution_count": 15,
     "metadata": {},
     "output_type": "execute_result"
    }
   ],
   "source": [
    "cur.execute(\"\"\"create trigger if not exists deletedata\n",
    "               after delete on contact\n",
    "               begin\n",
    "                   insert into details_log\n",
    "                   values(old.fname,old.lname,'NULL',old.contact,datetime('now'),'delete');\n",
    "               end;\n",
    "                   \"\"\")"
   ]
  },
  {
   "cell_type": "code",
   "execution_count": 18,
   "id": "90c0db07",
   "metadata": {},
   "outputs": [
    {
     "data": {
      "text/plain": [
       "<sqlite3.Cursor at 0x16e6e53fcc0>"
      ]
     },
     "execution_count": 18,
     "metadata": {},
     "output_type": "execute_result"
    }
   ],
   "source": [
    "cur.execute(\"\"\"create trigger if not exists updatedata\n",
    "               after update on contact\n",
    "               begin\n",
    "                   insert into details_log\n",
    "                   values(new.fname,new.lname,new.contact,old.contact,datetime('now'),'update');\n",
    "               end;\n",
    "                   \"\"\")"
   ]
  },
  {
   "cell_type": "code",
   "execution_count": 19,
   "id": "15e1cfaf",
   "metadata": {},
   "outputs": [],
   "source": [
    "def insertrecord():\n",
    "    cur=con.cursor()\n",
    "    cid=int(input(\"Enter contact id:\"))\n",
    "    fname=input(\"Enter the first name:\")\n",
    "    lname=input(\"Enter the last name:\")\n",
    "    contact=int(input(\"Enter the contact number:\"))\n",
    "    email=input(\"Enter the email:\")\n",
    "    city=input(\"Enter the city:\")\n",
    "    l=[cid,fname,lname,contact,email,city]\n",
    "    cur.execute(\"insert into contact values(?,?,?,?,?,?);\",l)\n",
    "    print(\"Sucessfully row insert.\");\n",
    "    con.commit()"
   ]
  },
  {
   "cell_type": "code",
   "execution_count": 23,
   "id": "c99fbce1",
   "metadata": {},
   "outputs": [],
   "source": [
    "def updateContacts():\n",
    "    cur=con.cursor()\n",
    "    name_search=input(\"\\n\\nEnter their First name: \")\n",
    "    new_contact=input(\"Enter New Contact No :\")\n",
    "    cur.execute(f\"update CONTACT set contact='{new_contact}' where fname='{name_search}'\")\n",
    "    print(\"Contact updated successfully.\\n\")\n",
    "    con.commit()"
   ]
  },
  {
   "cell_type": "code",
   "execution_count": 26,
   "id": "4b8ed3a5",
   "metadata": {},
   "outputs": [],
   "source": [
    "def deleteContacts():\n",
    "    cur=con.cursor()\n",
    "    name_search=input(\"\\n\\nEnter their First Name: \")\n",
    "    cur.execute(f\"delete from CONTACT where fname='{name_search}'\")\n",
    "    print(\"Contact deleted successfully.\\n\")\n",
    "    con.commit()"
   ]
  },
  {
   "cell_type": "code",
   "execution_count": 30,
   "id": "dcacc13b",
   "metadata": {},
   "outputs": [],
   "source": [
    "def searchContacts():\n",
    "    cur=con.cursor()\n",
    "    name_search=input(\"\\n\\nEnter their First Name: \")\n",
    "    cur.execute(f\"select * from CONTACT where fname='{name_search}'\")\n",
    "    records=cur.fetchall()\n",
    "    for rows in records:\n",
    "        print('{}\\t{}\\t{}\\t{}\\t{}'.format(rows[0],rows[1],rows[2],rows[3],rows[4]))      \n",
    "    con.commit()"
   ]
  },
  {
   "cell_type": "code",
   "execution_count": null,
   "id": "7eaddfe1",
   "metadata": {},
   "outputs": [
    {
     "name": "stdout",
     "output_type": "stream",
     "text": [
      "\n",
      "-------------------------------------------------------------------------------------------------\n",
      "1- Insert contacts\n",
      "2- Update contacts\n",
      "3- Delete contacts\n",
      "4- Search contacts\n",
      "0- Exit the program\n"
     ]
    }
   ],
   "source": [
    "choice=1\n",
    "while choice!=0:\n",
    "    print('\\n-------------------------------------------------------------------------------------------------')\n",
    "    print('1- Insert contacts')\n",
    "    print('2- Update contacts')\n",
    "    print('3- Delete contacts')\n",
    "    print('4- Search contacts')\n",
    "    print('0- Exit the program')\n",
    "    choice=int(input('\\nEnter your choice: '))      \n",
    "    if choice==1:\n",
    "        insertrecord()      \n",
    "    elif choice==2:\n",
    "        updateContacts()    \n",
    "    elif choice==3:\n",
    "        deleteContacts()   \n",
    "    elif choice==4:\n",
    "        searchContacts()           "
   ]
  },
  {
   "cell_type": "code",
   "execution_count": null,
   "id": "ada733bc",
   "metadata": {},
   "outputs": [],
   "source": []
  }
 ],
 "metadata": {
  "kernelspec": {
   "display_name": "Python 3 (ipykernel)",
   "language": "python",
   "name": "python3"
  },
  "language_info": {
   "codemirror_mode": {
    "name": "ipython",
    "version": 3
   },
   "file_extension": ".py",
   "mimetype": "text/x-python",
   "name": "python",
   "nbconvert_exporter": "python",
   "pygments_lexer": "ipython3",
   "version": "3.11.4"
  }
 },
 "nbformat": 4,
 "nbformat_minor": 5
}
